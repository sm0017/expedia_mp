{
 "cells": [
  {
   "cell_type": "markdown",
   "metadata": {
    "collapsed": true
   },
   "source": [
    "<h1 style=\"text-align: center;\" markdown=\"1\">Random Forest Model - 3</h1>"
   ]
  },
  {
   "cell_type": "markdown",
   "metadata": {},
   "source": [
    "<h2 style=\"text-align: center;\" markdown=\"1\">Loading and Reading Data </h2>"
   ]
  },
  {
   "cell_type": "code",
   "execution_count": 1,
   "metadata": {
    "collapsed": true
   },
   "outputs": [],
   "source": [
    "import pandas as pd"
   ]
  },
  {
   "cell_type": "code",
   "execution_count": null,
   "metadata": {
    "collapsed": true
   },
   "outputs": [],
   "source": [
    "### Configure path and load the data"
   ]
  },
  {
   "cell_type": "code",
   "execution_count": 2,
   "metadata": {
    "collapsed": true
   },
   "outputs": [],
   "source": [
    "#### Configure path\n",
    "dataRFPath = \"/home/smita/MP/dataSet2014_RF.csv\""
   ]
  },
  {
   "cell_type": "code",
   "execution_count": 3,
   "metadata": {
    "collapsed": true
   },
   "outputs": [],
   "source": [
    "full_df14 = pd.read_csv(dataRFPath)"
   ]
  },
  {
   "cell_type": "code",
   "execution_count": 4,
   "metadata": {
    "collapsed": false
   },
   "outputs": [
    {
     "data": {
      "text/plain": [
       "26483412"
      ]
     },
     "execution_count": 4,
     "metadata": {},
     "output_type": "execute_result"
    }
   ],
   "source": [
    "full_df14.shape[0]"
   ]
  },
  {
   "cell_type": "code",
   "execution_count": 7,
   "metadata": {
    "collapsed": false
   },
   "outputs": [
    {
     "data": {
      "text/html": [
       "<div>\n",
       "<table border=\"1\" class=\"dataframe\">\n",
       "  <thead>\n",
       "    <tr style=\"text-align: right;\">\n",
       "      <th></th>\n",
       "      <th>Unnamed: 0</th>\n",
       "      <th>srch_destination_id</th>\n",
       "      <th>user_id</th>\n",
       "      <th>is_mobile</th>\n",
       "      <th>is_package</th>\n",
       "      <th>is_booking</th>\n",
       "      <th>hotel_cluster</th>\n",
       "      <th>is_alone</th>\n",
       "      <th>hotel_market</th>\n",
       "      <th>year</th>\n",
       "    </tr>\n",
       "  </thead>\n",
       "  <tbody>\n",
       "    <tr>\n",
       "      <th>1</th>\n",
       "      <td>2</td>\n",
       "      <td>1</td>\n",
       "      <td>1195632</td>\n",
       "      <td>0</td>\n",
       "      <td>1</td>\n",
       "      <td>0</td>\n",
       "      <td>60</td>\n",
       "      <td>0.0</td>\n",
       "      <td>1537</td>\n",
       "      <td>2014</td>\n",
       "    </tr>\n",
       "    <tr>\n",
       "      <th>2</th>\n",
       "      <td>3</td>\n",
       "      <td>1</td>\n",
       "      <td>999935</td>\n",
       "      <td>0</td>\n",
       "      <td>0</td>\n",
       "      <td>0</td>\n",
       "      <td>30</td>\n",
       "      <td>0.0</td>\n",
       "      <td>1537</td>\n",
       "      <td>2014</td>\n",
       "    </tr>\n",
       "  </tbody>\n",
       "</table>\n",
       "</div>"
      ],
      "text/plain": [
       "   Unnamed: 0  srch_destination_id  user_id  is_mobile  is_package  \\\n",
       "1           2                    1  1195632          0           1   \n",
       "2           3                    1   999935          0           0   \n",
       "\n",
       "   is_booking  hotel_cluster  is_alone  hotel_market  year  \n",
       "1           0             60       0.0          1537  2014  \n",
       "2           0             30       0.0          1537  2014  "
      ]
     },
     "execution_count": 7,
     "metadata": {},
     "output_type": "execute_result"
    }
   ],
   "source": [
    "full_df14.iloc[1:3, 0:10]"
   ]
  },
  {
   "cell_type": "code",
   "execution_count": 8,
   "metadata": {
    "collapsed": false
   },
   "outputs": [
    {
     "data": {
      "text/html": [
       "<div>\n",
       "<table border=\"1\" class=\"dataframe\">\n",
       "  <thead>\n",
       "    <tr style=\"text-align: right;\">\n",
       "      <th></th>\n",
       "      <th>day</th>\n",
       "      <th>hour</th>\n",
       "      <th>part_of_day</th>\n",
       "      <th>type_of_day</th>\n",
       "      <th>season</th>\n",
       "      <th>duration_of_stay</th>\n",
       "      <th>hotel_market.1</th>\n",
       "      <th>hotel_continent</th>\n",
       "      <th>X</th>\n",
       "      <th>dest_feature_pc1</th>\n",
       "      <th>dest_feature_pc2</th>\n",
       "      <th>dest_feature_pc3</th>\n",
       "    </tr>\n",
       "  </thead>\n",
       "  <tbody>\n",
       "    <tr>\n",
       "      <th>1</th>\n",
       "      <td>28</td>\n",
       "      <td>13</td>\n",
       "      <td>evening</td>\n",
       "      <td>weekday</td>\n",
       "      <td>summer</td>\n",
       "      <td>1.0</td>\n",
       "      <td>1537</td>\n",
       "      <td>5</td>\n",
       "      <td>2.0</td>\n",
       "      <td>-6.605425</td>\n",
       "      <td>-0.249541</td>\n",
       "      <td>0.599817</td>\n",
       "    </tr>\n",
       "    <tr>\n",
       "      <th>2</th>\n",
       "      <td>7</td>\n",
       "      <td>9</td>\n",
       "      <td>evening</td>\n",
       "      <td>weekday</td>\n",
       "      <td>winter</td>\n",
       "      <td>1.0</td>\n",
       "      <td>1537</td>\n",
       "      <td>5</td>\n",
       "      <td>2.0</td>\n",
       "      <td>-6.605425</td>\n",
       "      <td>-0.249541</td>\n",
       "      <td>0.599817</td>\n",
       "    </tr>\n",
       "  </tbody>\n",
       "</table>\n",
       "</div>"
      ],
      "text/plain": [
       "   day  hour part_of_day type_of_day  season  duration_of_stay  \\\n",
       "1   28    13     evening     weekday  summer               1.0   \n",
       "2    7     9     evening     weekday  winter               1.0   \n",
       "\n",
       "   hotel_market.1  hotel_continent    X  dest_feature_pc1  dest_feature_pc2  \\\n",
       "1            1537                5  2.0         -6.605425         -0.249541   \n",
       "2            1537                5  2.0         -6.605425         -0.249541   \n",
       "\n",
       "   dest_feature_pc3  \n",
       "1          0.599817  \n",
       "2          0.599817  "
      ]
     },
     "execution_count": 8,
     "metadata": {},
     "output_type": "execute_result"
    }
   ],
   "source": [
    "full_df14.iloc[1:3, 11:23]"
   ]
  },
  {
   "cell_type": "code",
   "execution_count": 5,
   "metadata": {
    "collapsed": false
   },
   "outputs": [
    {
     "data": {
      "text/plain": [
       "array(['Unnamed: 0', 'srch_destination_id', 'user_id', 'is_mobile',\n",
       "       'is_package', 'is_booking', 'hotel_cluster', 'is_alone',\n",
       "       'hotel_market', 'year', 'month', 'day', 'hour', 'part_of_day',\n",
       "       'type_of_day', 'season', 'duration_of_stay', 'hotel_market.1',\n",
       "       'hotel_continent', 'X', 'dest_feature_pc1', 'dest_feature_pc2',\n",
       "       'dest_feature_pc3'], dtype=object)"
      ]
     },
     "execution_count": 5,
     "metadata": {},
     "output_type": "execute_result"
    }
   ],
   "source": [
    "full_df14.columns.values"
   ]
  },
  {
   "cell_type": "code",
   "execution_count": 6,
   "metadata": {
    "collapsed": true
   },
   "outputs": [],
   "source": [
    "### Remove indices columns from the data : X and Unnamed: 0 an duplicate column\n",
    "\n",
    "del full_df14['X']\n",
    "del full_df14['Unnamed: 0']\n",
    "del full_df14['hotel_market.1']"
   ]
  },
  {
   "cell_type": "code",
   "execution_count": 7,
   "metadata": {
    "collapsed": false
   },
   "outputs": [
    {
     "data": {
      "text/plain": [
       "array(['srch_destination_id', 'user_id', 'is_mobile', 'is_package',\n",
       "       'is_booking', 'hotel_cluster', 'is_alone', 'hotel_market', 'year',\n",
       "       'month', 'day', 'hour', 'part_of_day', 'type_of_day', 'season',\n",
       "       'duration_of_stay', 'hotel_continent', 'dest_feature_pc1',\n",
       "       'dest_feature_pc2', 'dest_feature_pc3'], dtype=object)"
      ]
     },
     "execution_count": 7,
     "metadata": {},
     "output_type": "execute_result"
    }
   ],
   "source": [
    "full_df14.columns.values"
   ]
  },
  {
   "cell_type": "code",
   "execution_count": 8,
   "metadata": {
    "collapsed": false
   },
   "outputs": [
    {
     "data": {
      "text/plain": [
       "20"
      ]
     },
     "execution_count": 8,
     "metadata": {},
     "output_type": "execute_result"
    }
   ],
   "source": [
    "# We have 20 predictors excluding response 'hotel_cluster'\n",
    "full_df14.shape[1]"
   ]
  },
  {
   "cell_type": "markdown",
   "metadata": {
    "collapsed": true
   },
   "source": [
    "<h2 style=\"text-align: center;\" markdown=\"1\">Data Cleaning </h2>"
   ]
  },
  {
   "cell_type": "markdown",
   "metadata": {},
   "source": [
    "### Missing Values"
   ]
  },
  {
   "cell_type": "code",
   "execution_count": 16,
   "metadata": {
    "collapsed": false
   },
   "outputs": [
    {
     "data": {
      "text/plain": [
       "srch_destination_id         0\n",
       "user_id                     0\n",
       "is_mobile                   0\n",
       "is_package                  0\n",
       "is_booking                  0\n",
       "hotel_cluster               0\n",
       "is_alone                44100\n",
       "hotel_market                0\n",
       "year                        0\n",
       "month                       0\n",
       "day                         0\n",
       "hour                        0\n",
       "part_of_day                 0\n",
       "type_of_day                 0\n",
       "season                      0\n",
       "duration_of_stay        11848\n",
       "hotel_market.1              0\n",
       "hotel_continent             0\n",
       "dest_feature_pc1       133319\n",
       "dest_feature_pc2       133319\n",
       "dest_feature_pc3       133319\n",
       "dtype: int64"
      ]
     },
     "execution_count": 16,
     "metadata": {},
     "output_type": "execute_result"
    }
   ],
   "source": [
    "full_df14.apply(lambda x: sum(x.isnull()),axis=0) "
   ]
  },
  {
   "cell_type": "markdown",
   "metadata": {},
   "source": [
    "### Imputing missing values"
   ]
  },
  {
   "cell_type": "code",
   "execution_count": 18,
   "metadata": {
    "collapsed": false
   },
   "outputs": [
    {
     "data": {
      "text/plain": [
       "0.0    21466123\n",
       "1.0     4973189\n",
       "Name: is_alone, dtype: int64"
      ]
     },
     "execution_count": 18,
     "metadata": {},
     "output_type": "execute_result"
    }
   ],
   "source": [
    "full_df14['is_alone'].value_counts()"
   ]
  },
  {
   "cell_type": "code",
   "execution_count": 9,
   "metadata": {
    "collapsed": true
   },
   "outputs": [],
   "source": [
    "### It's obvious there should be atleast one person , so we will impute missing value as 1: true\n",
    "full_df14['is_alone'].fillna(1 ,inplace=True)"
   ]
  },
  {
   "cell_type": "code",
   "execution_count": 10,
   "metadata": {
    "collapsed": true
   },
   "outputs": [],
   "source": [
    "### we will impute -1 for principal components : as we don't have pc features for all serch_dest_id\n",
    "full_df14['dest_feature_pc1'].fillna(-1 ,inplace=True)\n",
    "full_df14['dest_feature_pc2'].fillna(-1 ,inplace=True)\n",
    "full_df14['dest_feature_pc3'].fillna(-1 ,inplace=True)"
   ]
  },
  {
   "cell_type": "code",
   "execution_count": 11,
   "metadata": {
    "collapsed": true
   },
   "outputs": [],
   "source": [
    "### missing values for duration_of_stay : 1\n",
    "full_df14['duration_of_stay'].fillna(1 ,inplace=True)"
   ]
  },
  {
   "cell_type": "code",
   "execution_count": 67,
   "metadata": {
    "collapsed": false
   },
   "outputs": [
    {
     "data": {
      "text/plain": [
       "srch_destination_id    26483412\n",
       "user_id                26483412\n",
       "is_mobile              26483412\n",
       "is_package             26483412\n",
       "is_booking             26483412\n",
       "hotel_cluster          26483412\n",
       "is_alone               26483412\n",
       "hotel_market           26483412\n",
       "year                   26483412\n",
       "month                  26483412\n",
       "day                    26483412\n",
       "hour                   26483412\n",
       "part_of_day            26483412\n",
       "type_of_day            26483412\n",
       "season                 26483412\n",
       "duration_of_stay       26483412\n",
       "hotel_continent        26483412\n",
       "dest_feature_pc1       26483412\n",
       "dest_feature_pc2       26483412\n",
       "dest_feature_pc3       26483412\n",
       "dtype: int64"
      ]
     },
     "execution_count": 67,
     "metadata": {},
     "output_type": "execute_result"
    }
   ],
   "source": [
    "### Verify all the  missing values are replaced \n",
    "count_cols = full_df14.count(axis=0)\n",
    "count_cols"
   ]
  },
  {
   "cell_type": "code",
   "execution_count": 135,
   "metadata": {
    "collapsed": true
   },
   "outputs": [],
   "source": [
    "### Randomly select 50000 user_id\n",
    "import random\n",
    "unique_users = full_df14.user_id.unique()\n",
    "sel_user_ids = [unique_users[i] for i in sorted(random.sample(range(len(unique_users)), 50000)) ]\n",
    "rf_dat = full_df14[full_df14.user_id.isin(sel_user_ids)]"
   ]
  },
  {
   "cell_type": "code",
   "execution_count": 136,
   "metadata": {
    "collapsed": false
   },
   "outputs": [
    {
     "data": {
      "text/plain": [
       "(1211346, 20)"
      ]
     },
     "execution_count": 136,
     "metadata": {},
     "output_type": "execute_result"
    }
   ],
   "source": [
    "### downsampling \n",
    "rf_dat.shape"
   ]
  },
  {
   "cell_type": "code",
   "execution_count": null,
   "metadata": {
    "collapsed": true
   },
   "outputs": [],
   "source": [
    "### encode the categorical variable to numberic before applying the RF\n",
    "#part_of_day, type_of_day, season\n",
    "\n",
    "from sklearn.preprocessing import LabelEncoder\n",
    "var_mod = ['part_of_day', 'type_of_day', 'season']\n",
    "le = LabelEncoder()\n",
    "for i in var_mod:\n",
    "    rf_dat[i] = le.fit_transform(rf_dat[i])"
   ]
  },
  {
   "cell_type": "markdown",
   "metadata": {},
   "source": [
    "### Split the Data in Training and Test Set "
   ]
  },
  {
   "cell_type": "code",
   "execution_count": 138,
   "metadata": {
    "collapsed": true
   },
   "outputs": [],
   "source": [
    "train = rf_dat[rf_dat.month < 8]\n",
    "test = rf_dat[rf_dat.month >= 8]"
   ]
  },
  {
   "cell_type": "code",
   "execution_count": 53,
   "metadata": {
    "collapsed": false
   },
   "outputs": [
    {
     "data": {
      "text/plain": [
       "260"
      ]
     },
     "execution_count": 53,
     "metadata": {},
     "output_type": "execute_result"
    }
   ],
   "source": [
    "#free memory\n",
    "del full_df14\n",
    "import gc\n",
    "gc.collect()"
   ]
  },
  {
   "cell_type": "markdown",
   "metadata": {},
   "source": [
    "### Remove Clicks from test set"
   ]
  },
  {
   "cell_type": "code",
   "execution_count": 140,
   "metadata": {
    "collapsed": true
   },
   "outputs": [],
   "source": [
    "test = test[test.is_booking == 1]"
   ]
  },
  {
   "cell_type": "code",
   "execution_count": 141,
   "metadata": {
    "collapsed": false
   },
   "outputs": [
    {
     "data": {
      "text/plain": [
       "(583242, 20)"
      ]
     },
     "execution_count": 141,
     "metadata": {},
     "output_type": "execute_result"
    }
   ],
   "source": [
    "train.shape"
   ]
  },
  {
   "cell_type": "code",
   "execution_count": 142,
   "metadata": {
    "collapsed": false
   },
   "outputs": [
    {
     "data": {
      "text/plain": [
       "(44321, 20)"
      ]
     },
     "execution_count": 142,
     "metadata": {},
     "output_type": "execute_result"
    }
   ],
   "source": [
    "test.shape"
   ]
  },
  {
   "cell_type": "markdown",
   "metadata": {},
   "source": [
    "### Binary Classifier with KFold validation"
   ]
  },
  {
   "cell_type": "code",
   "execution_count": 143,
   "metadata": {
    "collapsed": true
   },
   "outputs": [],
   "source": [
    "from sklearn.ensemble import RandomForestClassifier\n",
    "from sklearn.cross_validation import KFold\n",
    "from itertools import chain"
   ]
  },
  {
   "cell_type": "code",
   "execution_count": 126,
   "metadata": {
    "collapsed": true
   },
   "outputs": [],
   "source": [
    "prob_booking = []\n",
    "# get the number of unique clusters\n",
    "unique_clusters = train['hotel_cluster'].unique()"
   ]
  },
  {
   "cell_type": "code",
   "execution_count": 127,
   "metadata": {
    "collapsed": false
   },
   "outputs": [
    {
     "data": {
      "text/plain": [
       "100"
      ]
     },
     "execution_count": 127,
     "metadata": {},
     "output_type": "execute_result"
    }
   ],
   "source": [
    "len(unique_clusters)"
   ]
  },
  {
   "cell_type": "code",
   "execution_count": 144,
   "metadata": {
    "collapsed": true
   },
   "outputs": [],
   "source": [
    "train_c = train.ix[:, :]"
   ]
  },
  {
   "cell_type": "code",
   "execution_count": 145,
   "metadata": {
    "collapsed": true
   },
   "outputs": [],
   "source": [
    "train_c.is_copy = False"
   ]
  },
  {
   "cell_type": "code",
   "execution_count": null,
   "metadata": {
    "collapsed": true
   },
   "outputs": [],
   "source": [
    "for cluster in unique_clusters:\n",
    "    train_c.is_copy = False\n",
    "    train_c[\"target\"] = 1\n",
    "    train_c[\"target\"][train_c[\"hotel_cluster\"] != cluster] = 0\n",
    "    predictors_set1 = [col for col in train if col not in [\"hotel_cluster\", \"target\"]]\n",
    "    probs = []\n",
    "    cv = KFold(len(train_c[\"target\"]), n_folds=2)\n",
    "    clf = RandomForestClassifier(n_estimators=10, min_weight_fraction_leaf=0.1)\n",
    "    for i, (tr, te) in enumerate(cv):\n",
    "        clf.fit(train_c[predictors_set1].iloc[tr], train_c[\"target\"].iloc[tr])\n",
    "        preds = clf.predict_proba(train_c[predictors_set1].iloc[te])\n",
    "        probs.append([p[1] for p in preds])             \n",
    "    full_probs = chain.from_iterable(probs)\n",
    "    prob_booking.append(list(full_probs))"
   ]
  },
  {
   "cell_type": "code",
   "execution_count": 166,
   "metadata": {
    "collapsed": false
   },
   "outputs": [
    {
     "data": {
      "text/plain": [
       "(583242, 100)"
      ]
     },
     "execution_count": 166,
     "metadata": {},
     "output_type": "execute_result"
    }
   ],
   "source": [
    "prediction_frame.shape"
   ]
  },
  {
   "cell_type": "code",
   "execution_count": null,
   "metadata": {
    "collapsed": true
   },
   "outputs": [],
   "source": [
    "prediction_frame = pd.DataFrame(prob_booking).T\n",
    "prediction_frame.columns = unique_clusters\n",
    "def find_top_5(row):\n",
    "    return list(row.nlargest(5).index)\n",
    "\n",
    "preds = []\n",
    "for index, row in prediction_frame.iterrows():\n",
    "    preds.append(find_top_5(row))"
   ]
  },
  {
   "cell_type": "code",
   "execution_count": 171,
   "metadata": {
    "collapsed": false
   },
   "outputs": [],
   "source": [
    "import ml_metrics as metrics"
   ]
  },
  {
   "cell_type": "code",
   "execution_count": 174,
   "metadata": {
    "collapsed": true
   },
   "outputs": [],
   "source": [
    "# evaluate accuracy for test set\n",
    "test_set1 = train.iloc[te]"
   ]
  },
  {
   "cell_type": "code",
   "execution_count": 175,
   "metadata": {
    "collapsed": false
   },
   "outputs": [
    {
     "data": {
      "text/plain": [
       "0.030217759809250139"
      ]
     },
     "execution_count": 175,
     "metadata": {},
     "output_type": "execute_result"
    }
   ],
   "source": [
    "metrics.mapk([[l] for l in test_set1[\"hotel_cluster\"]], preds, k=5)"
   ]
  },
  {
   "cell_type": "markdown",
   "metadata": {},
   "source": [
    "### Binary classification without KFold validation"
   ]
  },
  {
   "cell_type": "code",
   "execution_count": 178,
   "metadata": {
    "collapsed": true
   },
   "outputs": [],
   "source": [
    "test_c = test.ix[:, :]"
   ]
  },
  {
   "cell_type": "code",
   "execution_count": null,
   "metadata": {
    "collapsed": true
   },
   "outputs": [],
   "source": [
    "for cluster in unique_clusters:\n",
    "    train_c.is_copy = False\n",
    "    train_c[\"target\"] = 1\n",
    "    train_c.is_copy = False\n",
    "    train_c[\"target\"][train_c[\"hotel_cluster\"] != cluster] = 0\n",
    "    test_c.is_copy = False\n",
    "    test_c[\"target\"] = 1\n",
    "    test_c.is_copy = False\n",
    "    test_c[\"target\"][test_c[\"hotel_cluster\"] != cluster] = 0\n",
    "    predictors_set1 = [col for col in train if col not in [\"hotel_cluster\", \"target\"]]\n",
    "    probs = []\n",
    "    clf = RandomForestClassifier(n_estimators=10, min_weight_fraction_leaf=0.1)\n",
    "    clf.fit(train_c[predictors_set1], train_c[\"target\"])\n",
    "    preds = clf.predict_proba(test_c[predictors_set1])\n",
    "    probs.append([p[1] for p in preds])             \n",
    "    full_probs = chain.from_iterable(probs)\n",
    "    prob_booking.append(list(full_probs))"
   ]
  },
  {
   "cell_type": "code",
   "execution_count": null,
   "metadata": {
    "collapsed": true
   },
   "outputs": [],
   "source": [
    "prediction_frame = pd.DataFrame(prob_booking).T"
   ]
  },
  {
   "cell_type": "code",
   "execution_count": 193,
   "metadata": {
    "collapsed": false
   },
   "outputs": [],
   "source": [
    "t = prediction_frame.iloc[:, 0:100]"
   ]
  },
  {
   "cell_type": "code",
   "execution_count": 194,
   "metadata": {
    "collapsed": false
   },
   "outputs": [],
   "source": [
    "t.columns = unique_clusters\n",
    "def find_top_5(row):\n",
    "    return list(row.nlargest(5).index)\n",
    "\n",
    "preds = []\n",
    "for index, row in t.iterrows():\n",
    "    preds.append(find_top_5(row))"
   ]
  },
  {
   "cell_type": "code",
   "execution_count": 195,
   "metadata": {
    "collapsed": false
   },
   "outputs": [
    {
     "data": {
      "text/plain": [
       "0.042281687386716602"
      ]
     },
     "execution_count": 195,
     "metadata": {},
     "output_type": "execute_result"
    }
   ],
   "source": [
    "metrics.mapk([[l] for l in test_c[\"hotel_cluster\"]], preds, k=5)"
   ]
  },
  {
   "cell_type": "code",
   "execution_count": 196,
   "metadata": {
    "collapsed": true
   },
   "outputs": [],
   "source": [
    "del full_df14"
   ]
  }
 ],
 "metadata": {
  "anaconda-cloud": {},
  "kernelspec": {
   "display_name": "Python [conda root]",
   "language": "python",
   "name": "conda-root-py"
  },
  "language_info": {
   "codemirror_mode": {
    "name": "ipython",
    "version": 3
   },
   "file_extension": ".py",
   "mimetype": "text/x-python",
   "name": "python",
   "nbconvert_exporter": "python",
   "pygments_lexer": "ipython3",
   "version": "3.5.2"
  }
 },
 "nbformat": 4,
 "nbformat_minor": 1
}
