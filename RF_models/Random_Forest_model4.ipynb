{
 "cells": [
  {
   "cell_type": "markdown",
   "metadata": {
    "collapsed": true
   },
   "source": [
    "<h1 style=\"text-align: center;\" markdown=\"1\">Random Forest Model - 4</h1>"
   ]
  },
  {
   "cell_type": "markdown",
   "metadata": {},
   "source": [
    "We tried to build final model. We used feature created for model -2, important features in model-1 and \n",
    "new features created using combination of Jaccard similarity and Hierarchial Clustering\n",
    "\n",
    "We got 8% accuracy using this technique\n",
    "\n",
    "We had downsampled data significantly. I think, larger sample size could have added to the accuracy of this model"
   ]
  },
  {
   "cell_type": "markdown",
   "metadata": {},
   "source": [
    "<h2 style=\"text-align: center;\" markdown=\"1\">Loading and Reading Data </h2>"
   ]
  },
  {
   "cell_type": "code",
   "execution_count": 2,
   "metadata": {
    "collapsed": true
   },
   "outputs": [],
   "source": [
    "import pandas as pd"
   ]
  },
  {
   "cell_type": "markdown",
   "metadata": {},
   "source": [
    "### Configure path and load the data"
   ]
  },
  {
   "cell_type": "code",
   "execution_count": 2,
   "metadata": {
    "collapsed": true
   },
   "outputs": [],
   "source": [
    "#### Configure path\n",
    "dataRFPath = \"/home/smita/RF_models/dataRF4.csv\""
   ]
  },
  {
   "cell_type": "code",
   "execution_count": 3,
   "metadata": {
    "collapsed": false
   },
   "outputs": [],
   "source": [
    "full_df14 = pd.read_csv(dataRFPath)"
   ]
  },
  {
   "cell_type": "code",
   "execution_count": 4,
   "metadata": {
    "collapsed": false
   },
   "outputs": [
    {
     "data": {
      "text/plain": [
       "(26483412, 28)"
      ]
     },
     "execution_count": 4,
     "metadata": {},
     "output_type": "execute_result"
    }
   ],
   "source": [
    "full_df14.shape"
   ]
  },
  {
   "cell_type": "code",
   "execution_count": 5,
   "metadata": {
    "collapsed": false
   },
   "outputs": [
    {
     "data": {
      "text/html": [
       "<div>\n",
       "<table border=\"1\" class=\"dataframe\">\n",
       "  <thead>\n",
       "    <tr style=\"text-align: right;\">\n",
       "      <th></th>\n",
       "      <th>Unnamed: 0</th>\n",
       "      <th>srch_destination_id</th>\n",
       "      <th>hotel_cluster</th>\n",
       "      <th>user_id</th>\n",
       "      <th>is_mobile</th>\n",
       "      <th>is_package</th>\n",
       "      <th>is_booking</th>\n",
       "      <th>is_alone</th>\n",
       "      <th>hotel_continent</th>\n",
       "      <th>hotel_country</th>\n",
       "      <th>hotel_market</th>\n",
       "      <th>orig_destination_distance</th>\n",
       "    </tr>\n",
       "  </thead>\n",
       "  <tbody>\n",
       "    <tr>\n",
       "      <th>0</th>\n",
       "      <td>1</td>\n",
       "      <td>1</td>\n",
       "      <td>30</td>\n",
       "      <td>1195632</td>\n",
       "      <td>0</td>\n",
       "      <td>0</td>\n",
       "      <td>0</td>\n",
       "      <td>0.0</td>\n",
       "      <td>5</td>\n",
       "      <td>76</td>\n",
       "      <td>1537</td>\n",
       "      <td>NaN</td>\n",
       "    </tr>\n",
       "    <tr>\n",
       "      <th>1</th>\n",
       "      <td>2</td>\n",
       "      <td>1</td>\n",
       "      <td>60</td>\n",
       "      <td>1195632</td>\n",
       "      <td>0</td>\n",
       "      <td>1</td>\n",
       "      <td>0</td>\n",
       "      <td>0.0</td>\n",
       "      <td>5</td>\n",
       "      <td>76</td>\n",
       "      <td>1537</td>\n",
       "      <td>NaN</td>\n",
       "    </tr>\n",
       "    <tr>\n",
       "      <th>2</th>\n",
       "      <td>3</td>\n",
       "      <td>1</td>\n",
       "      <td>30</td>\n",
       "      <td>999935</td>\n",
       "      <td>0</td>\n",
       "      <td>0</td>\n",
       "      <td>0</td>\n",
       "      <td>0.0</td>\n",
       "      <td>5</td>\n",
       "      <td>76</td>\n",
       "      <td>1537</td>\n",
       "      <td>NaN</td>\n",
       "    </tr>\n",
       "  </tbody>\n",
       "</table>\n",
       "</div>"
      ],
      "text/plain": [
       "   Unnamed: 0  srch_destination_id  hotel_cluster  user_id  is_mobile  \\\n",
       "0           1                    1             30  1195632          0   \n",
       "1           2                    1             60  1195632          0   \n",
       "2           3                    1             30   999935          0   \n",
       "\n",
       "   is_package  is_booking  is_alone  hotel_continent  hotel_country  \\\n",
       "0           0           0       0.0                5             76   \n",
       "1           1           0       0.0                5             76   \n",
       "2           0           0       0.0                5             76   \n",
       "\n",
       "   hotel_market  orig_destination_distance  \n",
       "0          1537                        NaN  \n",
       "1          1537                        NaN  \n",
       "2          1537                        NaN  "
      ]
     },
     "execution_count": 5,
     "metadata": {},
     "output_type": "execute_result"
    }
   ],
   "source": [
    "full_df14.iloc[0:3, 0:12]"
   ]
  },
  {
   "cell_type": "code",
   "execution_count": 6,
   "metadata": {
    "collapsed": false
   },
   "outputs": [
    {
     "data": {
      "text/html": [
       "<div>\n",
       "<table border=\"1\" class=\"dataframe\">\n",
       "  <thead>\n",
       "    <tr style=\"text-align: right;\">\n",
       "      <th></th>\n",
       "      <th>srch_rm_cnt</th>\n",
       "      <th>user_location_country</th>\n",
       "      <th>user_location_region</th>\n",
       "      <th>user_location_city</th>\n",
       "      <th>year</th>\n",
       "      <th>month</th>\n",
       "      <th>day</th>\n",
       "      <th>hour</th>\n",
       "      <th>part_of_day</th>\n",
       "      <th>type_of_day</th>\n",
       "      <th>season</th>\n",
       "      <th>duration_of_stay</th>\n",
       "      <th>dest_feature_pc1</th>\n",
       "      <th>dest_feature_pc2</th>\n",
       "      <th>dest_feature_pc3</th>\n",
       "    </tr>\n",
       "  </thead>\n",
       "  <tbody>\n",
       "    <tr>\n",
       "      <th>0</th>\n",
       "      <td>6</td>\n",
       "      <td>231</td>\n",
       "      <td>48</td>\n",
       "      <td>2982</td>\n",
       "      <td>2014</td>\n",
       "      <td>9</td>\n",
       "      <td>10</td>\n",
       "      <td>13</td>\n",
       "      <td>evening</td>\n",
       "      <td>weekday</td>\n",
       "      <td>fall</td>\n",
       "      <td>1.0</td>\n",
       "      <td>-6.605425</td>\n",
       "      <td>-0.249541</td>\n",
       "      <td>0.599817</td>\n",
       "    </tr>\n",
       "    <tr>\n",
       "      <th>1</th>\n",
       "      <td>6</td>\n",
       "      <td>231</td>\n",
       "      <td>48</td>\n",
       "      <td>2982</td>\n",
       "      <td>2014</td>\n",
       "      <td>8</td>\n",
       "      <td>28</td>\n",
       "      <td>13</td>\n",
       "      <td>evening</td>\n",
       "      <td>weekday</td>\n",
       "      <td>summer</td>\n",
       "      <td>1.0</td>\n",
       "      <td>-6.605425</td>\n",
       "      <td>-0.249541</td>\n",
       "      <td>0.599817</td>\n",
       "    </tr>\n",
       "    <tr>\n",
       "      <th>2</th>\n",
       "      <td>2</td>\n",
       "      <td>1</td>\n",
       "      <td>401</td>\n",
       "      <td>230</td>\n",
       "      <td>2014</td>\n",
       "      <td>2</td>\n",
       "      <td>7</td>\n",
       "      <td>9</td>\n",
       "      <td>evening</td>\n",
       "      <td>weekday</td>\n",
       "      <td>winter</td>\n",
       "      <td>1.0</td>\n",
       "      <td>-6.605425</td>\n",
       "      <td>-0.249541</td>\n",
       "      <td>0.599817</td>\n",
       "    </tr>\n",
       "  </tbody>\n",
       "</table>\n",
       "</div>"
      ],
      "text/plain": [
       "   srch_rm_cnt  user_location_country  user_location_region  \\\n",
       "0            6                    231                    48   \n",
       "1            6                    231                    48   \n",
       "2            2                      1                   401   \n",
       "\n",
       "   user_location_city  year  month  day  hour part_of_day type_of_day  season  \\\n",
       "0                2982  2014      9   10    13     evening     weekday    fall   \n",
       "1                2982  2014      8   28    13     evening     weekday  summer   \n",
       "2                 230  2014      2    7     9     evening     weekday  winter   \n",
       "\n",
       "   duration_of_stay  dest_feature_pc1  dest_feature_pc2  dest_feature_pc3  \n",
       "0               1.0         -6.605425         -0.249541          0.599817  \n",
       "1               1.0         -6.605425         -0.249541          0.599817  \n",
       "2               1.0         -6.605425         -0.249541          0.599817  "
      ]
     },
     "execution_count": 6,
     "metadata": {},
     "output_type": "execute_result"
    }
   ],
   "source": [
    "full_df14.iloc[0:3, 13:28]"
   ]
  },
  {
   "cell_type": "code",
   "execution_count": 7,
   "metadata": {
    "collapsed": false
   },
   "outputs": [
    {
     "data": {
      "text/plain": [
       "array(['Unnamed: 0', 'srch_destination_id', 'hotel_cluster', 'user_id',\n",
       "       'is_mobile', 'is_package', 'is_booking', 'is_alone',\n",
       "       'hotel_continent', 'hotel_country', 'hotel_market',\n",
       "       'orig_destination_distance', 'srch_destination_type_id',\n",
       "       'srch_rm_cnt', 'user_location_country', 'user_location_region',\n",
       "       'user_location_city', 'year', 'month', 'day', 'hour', 'part_of_day',\n",
       "       'type_of_day', 'season', 'duration_of_stay', 'dest_feature_pc1',\n",
       "       'dest_feature_pc2', 'dest_feature_pc3'], dtype=object)"
      ]
     },
     "execution_count": 7,
     "metadata": {},
     "output_type": "execute_result"
    }
   ],
   "source": [
    "full_df14.columns.values"
   ]
  },
  {
   "cell_type": "code",
   "execution_count": 8,
   "metadata": {
    "collapsed": true
   },
   "outputs": [],
   "source": [
    "### Remove index columns from the data : Unnamed: 0 \n",
    "del full_df14['Unnamed: 0']"
   ]
  },
  {
   "cell_type": "code",
   "execution_count": 9,
   "metadata": {
    "collapsed": false
   },
   "outputs": [
    {
     "data": {
      "text/plain": [
       "array(['srch_destination_id', 'hotel_cluster', 'user_id', 'is_mobile',\n",
       "       'is_package', 'is_booking', 'is_alone', 'hotel_continent',\n",
       "       'hotel_country', 'hotel_market', 'orig_destination_distance',\n",
       "       'srch_destination_type_id', 'srch_rm_cnt', 'user_location_country',\n",
       "       'user_location_region', 'user_location_city', 'year', 'month',\n",
       "       'day', 'hour', 'part_of_day', 'type_of_day', 'season',\n",
       "       'duration_of_stay', 'dest_feature_pc1', 'dest_feature_pc2',\n",
       "       'dest_feature_pc3'], dtype=object)"
      ]
     },
     "execution_count": 9,
     "metadata": {},
     "output_type": "execute_result"
    }
   ],
   "source": [
    "full_df14.columns.values"
   ]
  },
  {
   "cell_type": "markdown",
   "metadata": {
    "collapsed": true
   },
   "source": [
    "<h2 style=\"text-align: center;\" markdown=\"1\">Data Cleaning </h2>"
   ]
  },
  {
   "cell_type": "markdown",
   "metadata": {},
   "source": [
    "### Missing Values"
   ]
  },
  {
   "cell_type": "code",
   "execution_count": 10,
   "metadata": {
    "collapsed": false
   },
   "outputs": [],
   "source": [
    "count_cols = full_df14.count(axis=0)"
   ]
  },
  {
   "cell_type": "code",
   "execution_count": 17,
   "metadata": {
    "collapsed": false
   },
   "outputs": [
    {
     "data": {
      "text/plain": [
       "orig_destination_distance    16976923\n",
       "dest_feature_pc3             26350093\n",
       "dest_feature_pc1             26350093\n",
       "dest_feature_pc2             26350093\n",
       "is_alone                     26439312\n",
       "duration_of_stay             26471564\n",
       "hotel_cluster                26483412\n",
       "user_id                      26483412\n",
       "is_mobile                    26483412\n",
       "is_package                   26483412\n",
       "is_booking                   26483412\n",
       "hotel_continent              26483412\n",
       "hotel_country                26483412\n",
       "hotel_market                 26483412\n",
       "srch_destination_type_id     26483412\n",
       "user_location_city           26483412\n",
       "srch_destination_id          26483412\n",
       "user_location_region         26483412\n",
       "year                         26483412\n",
       "month                        26483412\n",
       "day                          26483412\n",
       "hour                         26483412\n",
       "part_of_day                  26483412\n",
       "type_of_day                  26483412\n",
       "season                       26483412\n",
       "srch_rm_cnt                  26483412\n",
       "user_location_country        26483412\n",
       "dtype: int64"
      ]
     },
     "execution_count": 17,
     "metadata": {},
     "output_type": "execute_result"
    }
   ],
   "source": [
    "count_cols.sort_values()"
   ]
  },
  {
   "cell_type": "markdown",
   "metadata": {},
   "source": [
    "### Imputing missing values"
   ]
  },
  {
   "cell_type": "code",
   "execution_count": 18,
   "metadata": {
    "collapsed": false
   },
   "outputs": [
    {
     "data": {
      "text/plain": [
       "0.0    21466123\n",
       "1.0     4973189\n",
       "Name: is_alone, dtype: int64"
      ]
     },
     "execution_count": 18,
     "metadata": {},
     "output_type": "execute_result"
    }
   ],
   "source": [
    "full_df14['is_alone'].value_counts()"
   ]
  },
  {
   "cell_type": "code",
   "execution_count": 19,
   "metadata": {
    "collapsed": true
   },
   "outputs": [],
   "source": [
    "### It's obvious there should be atleast one person , so we will impute missing value as 1: true\n",
    "full_df14['is_alone'].fillna(1 ,inplace=True)"
   ]
  },
  {
   "cell_type": "code",
   "execution_count": 20,
   "metadata": {
    "collapsed": true
   },
   "outputs": [],
   "source": [
    "### we will impute -1 for principal components : as we don't have pc features for all serch_dest_id\n",
    "full_df14['dest_feature_pc1'].fillna(-1 ,inplace=True)\n",
    "full_df14['dest_feature_pc2'].fillna(-1 ,inplace=True)\n",
    "full_df14['dest_feature_pc3'].fillna(-1 ,inplace=True)"
   ]
  },
  {
   "cell_type": "code",
   "execution_count": 21,
   "metadata": {
    "collapsed": true
   },
   "outputs": [],
   "source": [
    "### missing values for duration_of_stay : 1\n",
    "full_df14['duration_of_stay'].fillna(1 ,inplace=True)"
   ]
  },
  {
   "cell_type": "code",
   "execution_count": 23,
   "metadata": {
    "collapsed": true
   },
   "outputs": [],
   "source": [
    "full_df14['orig_destination_distance'].fillna(-1 ,inplace=True)"
   ]
  },
  {
   "cell_type": "code",
   "execution_count": 24,
   "metadata": {
    "collapsed": false
   },
   "outputs": [
    {
     "data": {
      "text/plain": [
       "srch_destination_id          26483412\n",
       "hotel_cluster                26483412\n",
       "user_id                      26483412\n",
       "is_mobile                    26483412\n",
       "is_package                   26483412\n",
       "is_booking                   26483412\n",
       "is_alone                     26483412\n",
       "hotel_continent              26483412\n",
       "hotel_country                26483412\n",
       "hotel_market                 26483412\n",
       "orig_destination_distance    26483412\n",
       "srch_destination_type_id     26483412\n",
       "srch_rm_cnt                  26483412\n",
       "user_location_country        26483412\n",
       "user_location_region         26483412\n",
       "user_location_city           26483412\n",
       "year                         26483412\n",
       "month                        26483412\n",
       "day                          26483412\n",
       "hour                         26483412\n",
       "part_of_day                  26483412\n",
       "type_of_day                  26483412\n",
       "season                       26483412\n",
       "duration_of_stay             26483412\n",
       "dest_feature_pc1             26483412\n",
       "dest_feature_pc2             26483412\n",
       "dest_feature_pc3             26483412\n",
       "dtype: int64"
      ]
     },
     "execution_count": 24,
     "metadata": {},
     "output_type": "execute_result"
    }
   ],
   "source": [
    "### Verify all the  missing values are replaced \n",
    "count_cols = full_df14.count(axis=0)\n",
    "count_cols"
   ]
  },
  {
   "cell_type": "code",
   "execution_count": 28,
   "metadata": {
    "collapsed": true
   },
   "outputs": [],
   "source": [
    "### Randomly select 10000 user_id\n",
    "import random\n",
    "unique_users = full_df14.user_id.unique()\n",
    "sel_user_ids = [unique_users[i] for i in sorted(random.sample(range(len(unique_users)), 5000)) ]\n",
    "rf_dat = full_df14[full_df14.user_id.isin(sel_user_ids)]"
   ]
  },
  {
   "cell_type": "code",
   "execution_count": 29,
   "metadata": {
    "collapsed": false
   },
   "outputs": [
    {
     "data": {
      "text/plain": [
       "(121403, 27)"
      ]
     },
     "execution_count": 29,
     "metadata": {},
     "output_type": "execute_result"
    }
   ],
   "source": [
    "### downsampling \n",
    "rf_dat.shape"
   ]
  },
  {
   "cell_type": "code",
   "execution_count": 30,
   "metadata": {
    "collapsed": true
   },
   "outputs": [],
   "source": [
    "rf_dat.to_csv('/home/smita/RF_models/clean_sample_RF4.csv')"
   ]
  },
  {
   "cell_type": "code",
   "execution_count": 3,
   "metadata": {
    "collapsed": false
   },
   "outputs": [],
   "source": [
    "cleanSample =  pd.read_csv(\"/home/smita/RF_models/clean_sample_RF4.csv\")"
   ]
  },
  {
   "cell_type": "code",
   "execution_count": 4,
   "metadata": {
    "collapsed": false
   },
   "outputs": [
    {
     "data": {
      "text/plain": [
       "(121403, 28)"
      ]
     },
     "execution_count": 4,
     "metadata": {},
     "output_type": "execute_result"
    }
   ],
   "source": [
    "cleanSample.shape"
   ]
  },
  {
   "cell_type": "code",
   "execution_count": 5,
   "metadata": {
    "collapsed": true
   },
   "outputs": [],
   "source": [
    "unique_users = cleanSample.user_id.unique()"
   ]
  },
  {
   "cell_type": "code",
   "execution_count": 6,
   "metadata": {
    "collapsed": false
   },
   "outputs": [
    {
     "data": {
      "text/plain": [
       "5000"
      ]
     },
     "execution_count": 6,
     "metadata": {},
     "output_type": "execute_result"
    }
   ],
   "source": [
    "len(unique_users)"
   ]
  },
  {
   "cell_type": "code",
   "execution_count": 7,
   "metadata": {
    "collapsed": true
   },
   "outputs": [],
   "source": [
    "## Due to memory limitation not able again resampling the data\n",
    "### Randomly select 1000 user_id\n",
    "import random\n",
    "unique_users = cleanSample.user_id.unique()\n",
    "sel_user_ids = [unique_users[i] for i in sorted(random.sample(range(len(unique_users)), 1000)) ]\n",
    "rf_dat = cleanSample[cleanSample.user_id.isin(sel_user_ids)]"
   ]
  },
  {
   "cell_type": "code",
   "execution_count": 8,
   "metadata": {
    "collapsed": false
   },
   "outputs": [
    {
     "data": {
      "text/plain": [
       "(23731, 28)"
      ]
     },
     "execution_count": 8,
     "metadata": {},
     "output_type": "execute_result"
    }
   ],
   "source": [
    "rf_dat.shape"
   ]
  },
  {
   "cell_type": "code",
   "execution_count": 9,
   "metadata": {
    "collapsed": true
   },
   "outputs": [],
   "source": [
    "rf_dat.to_csv('/home/smita/RF_models/clean_sample_RF4_23K.csv')"
   ]
  },
  {
   "cell_type": "markdown",
   "metadata": {},
   "source": [
    "#### Using Features_using_hierarchial_clustering.R we added 4 more features\n",
    "\n",
    "loading data from the file final_data_RF4_small.csv"
   ]
  },
  {
   "cell_type": "code",
   "execution_count": 10,
   "metadata": {
    "collapsed": true
   },
   "outputs": [],
   "source": [
    "new_dat = pd.read_csv('/home/smita/RF_models/final_data_RF4_small.csv')"
   ]
  },
  {
   "cell_type": "code",
   "execution_count": 12,
   "metadata": {
    "collapsed": false
   },
   "outputs": [
    {
     "data": {
      "text/plain": [
       "array(['Unnamed: 0', 'X', 'Unnamed..0', 'srch_destination_id',\n",
       "       'hotel_cluster', 'user_id', 'is_mobile', 'is_package', 'is_booking',\n",
       "       'is_alone', 'hotel_continent', 'hotel_country', 'hotel_market',\n",
       "       'orig_destination_distance', 'srch_destination_type_id',\n",
       "       'srch_rm_cnt', 'user_location_country', 'user_location_region',\n",
       "       'user_location_city', 'year', 'month', 'day', 'hour', 'part_of_day',\n",
       "       'type_of_day', 'season', 'duration_of_stay', 'dest_feature_pc1',\n",
       "       'dest_feature_pc2', 'dest_feature_pc3', 'cluster_id_srchDest',\n",
       "       'cluster_id_hotel_cluster', 'cluster_id_UCRC', 'cluster_id_ULSrDest'], dtype=object)"
      ]
     },
     "execution_count": 12,
     "metadata": {},
     "output_type": "execute_result"
    }
   ],
   "source": [
    "new_dat.columns.values"
   ]
  },
  {
   "cell_type": "code",
   "execution_count": 13,
   "metadata": {
    "collapsed": true
   },
   "outputs": [],
   "source": [
    "### Remove index columns from the data : Unnamed: 0 \n",
    "del new_dat['Unnamed: 0']\n",
    "del new_dat['Unnamed..0']\n",
    "del new_dat['X']"
   ]
  },
  {
   "cell_type": "code",
   "execution_count": 15,
   "metadata": {
    "collapsed": false
   },
   "outputs": [
    {
     "data": {
      "text/plain": [
       "(23731, 31)"
      ]
     },
     "execution_count": 15,
     "metadata": {},
     "output_type": "execute_result"
    }
   ],
   "source": [
    "new_dat.shape"
   ]
  },
  {
   "cell_type": "code",
   "execution_count": 17,
   "metadata": {
    "collapsed": false
   },
   "outputs": [
    {
     "data": {
      "text/html": [
       "<div>\n",
       "<table border=\"1\" class=\"dataframe\">\n",
       "  <thead>\n",
       "    <tr style=\"text-align: right;\">\n",
       "      <th></th>\n",
       "      <th>hotel_cluster</th>\n",
       "      <th>user_id</th>\n",
       "      <th>is_mobile</th>\n",
       "      <th>is_package</th>\n",
       "      <th>is_booking</th>\n",
       "      <th>is_alone</th>\n",
       "      <th>hotel_continent</th>\n",
       "      <th>hotel_country</th>\n",
       "      <th>hotel_market</th>\n",
       "      <th>orig_destination_distance</th>\n",
       "      <th>srch_destination_type_id</th>\n",
       "      <th>srch_rm_cnt</th>\n",
       "      <th>user_location_country</th>\n",
       "      <th>user_location_region</th>\n",
       "    </tr>\n",
       "  </thead>\n",
       "  <tbody>\n",
       "    <tr>\n",
       "      <th>1</th>\n",
       "      <td>7</td>\n",
       "      <td>334385</td>\n",
       "      <td>1</td>\n",
       "      <td>0</td>\n",
       "      <td>0</td>\n",
       "      <td>1</td>\n",
       "      <td>2</td>\n",
       "      <td>50</td>\n",
       "      <td>416</td>\n",
       "      <td>180.1034</td>\n",
       "      <td>1</td>\n",
       "      <td>1</td>\n",
       "      <td>66</td>\n",
       "      <td>442</td>\n",
       "    </tr>\n",
       "    <tr>\n",
       "      <th>2</th>\n",
       "      <td>48</td>\n",
       "      <td>334385</td>\n",
       "      <td>1</td>\n",
       "      <td>0</td>\n",
       "      <td>0</td>\n",
       "      <td>1</td>\n",
       "      <td>2</td>\n",
       "      <td>50</td>\n",
       "      <td>416</td>\n",
       "      <td>164.2579</td>\n",
       "      <td>1</td>\n",
       "      <td>1</td>\n",
       "      <td>66</td>\n",
       "      <td>442</td>\n",
       "    </tr>\n",
       "  </tbody>\n",
       "</table>\n",
       "</div>"
      ],
      "text/plain": [
       "   hotel_cluster  user_id  is_mobile  is_package  is_booking  is_alone  \\\n",
       "1              7   334385          1           0           0         1   \n",
       "2             48   334385          1           0           0         1   \n",
       "\n",
       "   hotel_continent  hotel_country  hotel_market  orig_destination_distance  \\\n",
       "1                2             50           416                   180.1034   \n",
       "2                2             50           416                   164.2579   \n",
       "\n",
       "   srch_destination_type_id  srch_rm_cnt  user_location_country  \\\n",
       "1                         1            1                     66   \n",
       "2                         1            1                     66   \n",
       "\n",
       "   user_location_region  \n",
       "1                   442  \n",
       "2                   442  "
      ]
     },
     "execution_count": 17,
     "metadata": {},
     "output_type": "execute_result"
    }
   ],
   "source": [
    "new_dat.iloc[1:3, 1:15]"
   ]
  },
  {
   "cell_type": "code",
   "execution_count": 18,
   "metadata": {
    "collapsed": false
   },
   "outputs": [
    {
     "data": {
      "text/html": [
       "<div>\n",
       "<table border=\"1\" class=\"dataframe\">\n",
       "  <thead>\n",
       "    <tr style=\"text-align: right;\">\n",
       "      <th></th>\n",
       "      <th>year</th>\n",
       "      <th>month</th>\n",
       "      <th>day</th>\n",
       "      <th>hour</th>\n",
       "      <th>part_of_day</th>\n",
       "      <th>type_of_day</th>\n",
       "      <th>season</th>\n",
       "      <th>duration_of_stay</th>\n",
       "      <th>dest_feature_pc1</th>\n",
       "      <th>dest_feature_pc2</th>\n",
       "      <th>dest_feature_pc3</th>\n",
       "      <th>cluster_id_srchDest</th>\n",
       "      <th>cluster_id_hotel_cluster</th>\n",
       "      <th>cluster_id_UCRC</th>\n",
       "      <th>cluster_id_ULSrDest</th>\n",
       "    </tr>\n",
       "  </thead>\n",
       "  <tbody>\n",
       "    <tr>\n",
       "      <th>1</th>\n",
       "      <td>2014</td>\n",
       "      <td>6</td>\n",
       "      <td>10</td>\n",
       "      <td>14</td>\n",
       "      <td>evening</td>\n",
       "      <td>weekday</td>\n",
       "      <td>summer</td>\n",
       "      <td>1</td>\n",
       "      <td>-0.974259</td>\n",
       "      <td>-0.628523</td>\n",
       "      <td>-2.011131</td>\n",
       "      <td>1</td>\n",
       "      <td>1</td>\n",
       "      <td>1</td>\n",
       "      <td>1</td>\n",
       "    </tr>\n",
       "    <tr>\n",
       "      <th>2</th>\n",
       "      <td>2014</td>\n",
       "      <td>4</td>\n",
       "      <td>30</td>\n",
       "      <td>17</td>\n",
       "      <td>evening</td>\n",
       "      <td>weekday</td>\n",
       "      <td>spring</td>\n",
       "      <td>1</td>\n",
       "      <td>-0.974259</td>\n",
       "      <td>-0.628523</td>\n",
       "      <td>-2.011131</td>\n",
       "      <td>1</td>\n",
       "      <td>1</td>\n",
       "      <td>1</td>\n",
       "      <td>1</td>\n",
       "    </tr>\n",
       "  </tbody>\n",
       "</table>\n",
       "</div>"
      ],
      "text/plain": [
       "   year  month  day  hour part_of_day type_of_day  season  duration_of_stay  \\\n",
       "1  2014      6   10    14     evening     weekday  summer                 1   \n",
       "2  2014      4   30    17     evening     weekday  spring                 1   \n",
       "\n",
       "   dest_feature_pc1  dest_feature_pc2  dest_feature_pc3  cluster_id_srchDest  \\\n",
       "1         -0.974259         -0.628523         -2.011131                    1   \n",
       "2         -0.974259         -0.628523         -2.011131                    1   \n",
       "\n",
       "   cluster_id_hotel_cluster  cluster_id_UCRC  cluster_id_ULSrDest  \n",
       "1                         1                1                    1  \n",
       "2                         1                1                    1  "
      ]
     },
     "execution_count": 18,
     "metadata": {},
     "output_type": "execute_result"
    }
   ],
   "source": [
    "new_dat.iloc[1:3, 16:31]"
   ]
  },
  {
   "cell_type": "code",
   "execution_count": 19,
   "metadata": {
    "collapsed": true
   },
   "outputs": [],
   "source": [
    "### encode the categorical variable to numberic before applying the RF\n",
    "#part_of_day, type_of_day, season\n",
    "\n",
    "from sklearn.preprocessing import LabelEncoder\n",
    "var_mod = ['part_of_day', 'type_of_day', 'season']\n",
    "le = LabelEncoder()\n",
    "for i in var_mod:\n",
    "    new_dat[i] = le.fit_transform(new_dat[i])\n"
   ]
  },
  {
   "cell_type": "markdown",
   "metadata": {},
   "source": [
    "### Split the Data in Training and Test Set "
   ]
  },
  {
   "cell_type": "code",
   "execution_count": 21,
   "metadata": {
    "collapsed": false
   },
   "outputs": [],
   "source": [
    "train = new_dat[new_dat.month < 8]\n",
    "test = new_dat[new_dat.month >= 8]"
   ]
  },
  {
   "cell_type": "code",
   "execution_count": 22,
   "metadata": {
    "collapsed": false
   },
   "outputs": [
    {
     "data": {
      "text/plain": [
       "(11264, 31)"
      ]
     },
     "execution_count": 22,
     "metadata": {},
     "output_type": "execute_result"
    }
   ],
   "source": [
    "train.shape"
   ]
  },
  {
   "cell_type": "code",
   "execution_count": 23,
   "metadata": {
    "collapsed": false
   },
   "outputs": [
    {
     "data": {
      "text/plain": [
       "(12467, 31)"
      ]
     },
     "execution_count": 23,
     "metadata": {},
     "output_type": "execute_result"
    }
   ],
   "source": [
    "test.shape"
   ]
  },
  {
   "cell_type": "markdown",
   "metadata": {},
   "source": [
    "### Remove Clicks from test set"
   ]
  },
  {
   "cell_type": "code",
   "execution_count": 24,
   "metadata": {
    "collapsed": true
   },
   "outputs": [],
   "source": [
    "test = test[test.is_booking == 1]"
   ]
  },
  {
   "cell_type": "code",
   "execution_count": 25,
   "metadata": {
    "collapsed": false
   },
   "outputs": [
    {
     "data": {
      "text/plain": [
       "(11264, 31)"
      ]
     },
     "execution_count": 25,
     "metadata": {},
     "output_type": "execute_result"
    }
   ],
   "source": [
    "train.shape"
   ]
  },
  {
   "cell_type": "code",
   "execution_count": 26,
   "metadata": {
    "collapsed": false
   },
   "outputs": [
    {
     "data": {
      "text/plain": [
       "(946, 31)"
      ]
     },
     "execution_count": 26,
     "metadata": {},
     "output_type": "execute_result"
    }
   ],
   "source": [
    "test.shape"
   ]
  },
  {
   "cell_type": "markdown",
   "metadata": {},
   "source": [
    "#### Remove Unnecessory variables from dataframe"
   ]
  },
  {
   "cell_type": "code",
   "execution_count": 27,
   "metadata": {
    "collapsed": true
   },
   "outputs": [],
   "source": [
    "# Exclude Target and Predictors\n",
    "predictor_set1 = [c for c in train.columns if c not in ['hotel_cluster', 'user_id']]"
   ]
  },
  {
   "cell_type": "markdown",
   "metadata": {},
   "source": [
    "### Model -1"
   ]
  },
  {
   "cell_type": "code",
   "execution_count": 28,
   "metadata": {
    "collapsed": false
   },
   "outputs": [
    {
     "data": {
      "text/plain": [
       "array([ 0.05237887,  0.04889868,  0.05908485,  0.07200358,  0.07490975])"
      ]
     },
     "execution_count": 28,
     "metadata": {},
     "output_type": "execute_result"
    }
   ],
   "source": [
    "from sklearn import cross_validation\n",
    "from sklearn.ensemble import RandomForestClassifier\n",
    "\n",
    "model_RF = RandomForestClassifier(n_estimators=5, min_weight_fraction_leaf=0.1)\n",
    "scores = cross_validation.cross_val_score(model_RF, train[predictor_set1], train['hotel_cluster'], cv=5)\n",
    "scores"
   ]
  },
  {
   "cell_type": "code",
   "execution_count": 29,
   "metadata": {
    "collapsed": false
   },
   "outputs": [
    {
     "data": {
      "text/plain": [
       "RandomForestClassifier(bootstrap=True, class_weight=None, criterion='gini',\n",
       "            max_depth=None, max_features='auto', max_leaf_nodes=None,\n",
       "            min_samples_leaf=1, min_samples_split=2,\n",
       "            min_weight_fraction_leaf=0.1, n_estimators=5, n_jobs=1,\n",
       "            oob_score=False, random_state=None, verbose=0,\n",
       "            warm_start=False)"
      ]
     },
     "execution_count": 29,
     "metadata": {},
     "output_type": "execute_result"
    }
   ],
   "source": [
    "model_RF.fit(train[predictor_set1], train['hotel_cluster'])"
   ]
  },
  {
   "cell_type": "markdown",
   "metadata": {},
   "source": [
    "### use model to predict outcome for test dataset"
   ]
  },
  {
   "cell_type": "code",
   "execution_count": 31,
   "metadata": {
    "collapsed": false
   },
   "outputs": [
    {
     "data": {
      "text/plain": [
       "0.071881606765327691"
      ]
     },
     "execution_count": 31,
     "metadata": {},
     "output_type": "execute_result"
    }
   ],
   "source": [
    "test_score = model_RF.score(test[predictor_set1], test['hotel_cluster'])\n",
    "test_score"
   ]
  },
  {
   "cell_type": "markdown",
   "metadata": {},
   "source": [
    "#### Feature importance"
   ]
  },
  {
   "cell_type": "code",
   "execution_count": 33,
   "metadata": {
    "collapsed": false,
    "scrolled": true
   },
   "outputs": [
    {
     "name": "stdout",
     "output_type": "stream",
     "text": [
      "Feature sorted by their scores:\n"
     ]
    },
    {
     "data": {
      "text/html": [
       "<div>\n",
       "<table border=\"1\" class=\"dataframe\">\n",
       "  <thead>\n",
       "    <tr style=\"text-align: right;\">\n",
       "      <th></th>\n",
       "      <th>Score</th>\n",
       "      <th>Variable</th>\n",
       "    </tr>\n",
       "  </thead>\n",
       "  <tbody>\n",
       "    <tr>\n",
       "      <th>0</th>\n",
       "      <td>0.3086</td>\n",
       "      <td>dest_feature_pc1</td>\n",
       "    </tr>\n",
       "    <tr>\n",
       "      <th>1</th>\n",
       "      <td>0.1631</td>\n",
       "      <td>dest_feature_pc2</td>\n",
       "    </tr>\n",
       "    <tr>\n",
       "      <th>2</th>\n",
       "      <td>0.1060</td>\n",
       "      <td>hotel_continent</td>\n",
       "    </tr>\n",
       "    <tr>\n",
       "      <th>3</th>\n",
       "      <td>0.0928</td>\n",
       "      <td>hotel_country</td>\n",
       "    </tr>\n",
       "    <tr>\n",
       "      <th>4</th>\n",
       "      <td>0.0852</td>\n",
       "      <td>hotel_market</td>\n",
       "    </tr>\n",
       "    <tr>\n",
       "      <th>5</th>\n",
       "      <td>0.0727</td>\n",
       "      <td>cluster_id_hotel_cluster</td>\n",
       "    </tr>\n",
       "    <tr>\n",
       "      <th>6</th>\n",
       "      <td>0.0576</td>\n",
       "      <td>srch_destination_id</td>\n",
       "    </tr>\n",
       "    <tr>\n",
       "      <th>7</th>\n",
       "      <td>0.0358</td>\n",
       "      <td>dest_feature_pc3</td>\n",
       "    </tr>\n",
       "    <tr>\n",
       "      <th>8</th>\n",
       "      <td>0.0249</td>\n",
       "      <td>orig_destination_distance</td>\n",
       "    </tr>\n",
       "    <tr>\n",
       "      <th>9</th>\n",
       "      <td>0.0224</td>\n",
       "      <td>duration_of_stay</td>\n",
       "    </tr>\n",
       "    <tr>\n",
       "      <th>10</th>\n",
       "      <td>0.0140</td>\n",
       "      <td>cluster_id_ULSrDest</td>\n",
       "    </tr>\n",
       "    <tr>\n",
       "      <th>11</th>\n",
       "      <td>0.0111</td>\n",
       "      <td>season</td>\n",
       "    </tr>\n",
       "    <tr>\n",
       "      <th>12</th>\n",
       "      <td>0.0057</td>\n",
       "      <td>user_location_city</td>\n",
       "    </tr>\n",
       "    <tr>\n",
       "      <th>13</th>\n",
       "      <td>0.0000</td>\n",
       "      <td>year</td>\n",
       "    </tr>\n",
       "    <tr>\n",
       "      <th>14</th>\n",
       "      <td>0.0000</td>\n",
       "      <td>user_location_region</td>\n",
       "    </tr>\n",
       "    <tr>\n",
       "      <th>15</th>\n",
       "      <td>0.0000</td>\n",
       "      <td>user_location_country</td>\n",
       "    </tr>\n",
       "    <tr>\n",
       "      <th>16</th>\n",
       "      <td>0.0000</td>\n",
       "      <td>type_of_day</td>\n",
       "    </tr>\n",
       "    <tr>\n",
       "      <th>17</th>\n",
       "      <td>0.0000</td>\n",
       "      <td>srch_rm_cnt</td>\n",
       "    </tr>\n",
       "    <tr>\n",
       "      <th>18</th>\n",
       "      <td>0.0000</td>\n",
       "      <td>srch_destination_type_id</td>\n",
       "    </tr>\n",
       "    <tr>\n",
       "      <th>19</th>\n",
       "      <td>0.0000</td>\n",
       "      <td>part_of_day</td>\n",
       "    </tr>\n",
       "    <tr>\n",
       "      <th>20</th>\n",
       "      <td>0.0000</td>\n",
       "      <td>month</td>\n",
       "    </tr>\n",
       "    <tr>\n",
       "      <th>21</th>\n",
       "      <td>0.0000</td>\n",
       "      <td>is_package</td>\n",
       "    </tr>\n",
       "    <tr>\n",
       "      <th>22</th>\n",
       "      <td>0.0000</td>\n",
       "      <td>is_mobile</td>\n",
       "    </tr>\n",
       "    <tr>\n",
       "      <th>23</th>\n",
       "      <td>0.0000</td>\n",
       "      <td>is_booking</td>\n",
       "    </tr>\n",
       "    <tr>\n",
       "      <th>24</th>\n",
       "      <td>0.0000</td>\n",
       "      <td>is_alone</td>\n",
       "    </tr>\n",
       "    <tr>\n",
       "      <th>25</th>\n",
       "      <td>0.0000</td>\n",
       "      <td>hour</td>\n",
       "    </tr>\n",
       "    <tr>\n",
       "      <th>26</th>\n",
       "      <td>0.0000</td>\n",
       "      <td>day</td>\n",
       "    </tr>\n",
       "    <tr>\n",
       "      <th>27</th>\n",
       "      <td>0.0000</td>\n",
       "      <td>cluster_id_srchDest</td>\n",
       "    </tr>\n",
       "    <tr>\n",
       "      <th>28</th>\n",
       "      <td>0.0000</td>\n",
       "      <td>cluster_id_UCRC</td>\n",
       "    </tr>\n",
       "  </tbody>\n",
       "</table>\n",
       "</div>"
      ],
      "text/plain": [
       "     Score                   Variable\n",
       "0   0.3086           dest_feature_pc1\n",
       "1   0.1631           dest_feature_pc2\n",
       "2   0.1060            hotel_continent\n",
       "3   0.0928              hotel_country\n",
       "4   0.0852               hotel_market\n",
       "5   0.0727   cluster_id_hotel_cluster\n",
       "6   0.0576        srch_destination_id\n",
       "7   0.0358           dest_feature_pc3\n",
       "8   0.0249  orig_destination_distance\n",
       "9   0.0224           duration_of_stay\n",
       "10  0.0140        cluster_id_ULSrDest\n",
       "11  0.0111                     season\n",
       "12  0.0057         user_location_city\n",
       "13  0.0000                       year\n",
       "14  0.0000       user_location_region\n",
       "15  0.0000      user_location_country\n",
       "16  0.0000                type_of_day\n",
       "17  0.0000                srch_rm_cnt\n",
       "18  0.0000   srch_destination_type_id\n",
       "19  0.0000                part_of_day\n",
       "20  0.0000                      month\n",
       "21  0.0000                 is_package\n",
       "22  0.0000                  is_mobile\n",
       "23  0.0000                 is_booking\n",
       "24  0.0000                   is_alone\n",
       "25  0.0000                       hour\n",
       "26  0.0000                        day\n",
       "27  0.0000        cluster_id_srchDest\n",
       "28  0.0000            cluster_id_UCRC"
      ]
     },
     "execution_count": 33,
     "metadata": {},
     "output_type": "execute_result"
    }
   ],
   "source": [
    "import numpy as np\n",
    "importance = model_RF.feature_importances_\n",
    "std = np.std([model_RF.feature_importances_ for tree in model_RF.estimators_], axis=0)\n",
    "indices = np.argsort(importance)[::-1]\n",
    "print (\"Feature sorted by their scores:\")\n",
    "df = sorted(zip(map(lambda x:round(x,4), model_RF.feature_importances_), predictor_set1), reverse=True)\n",
    "imp = pd.DataFrame(df)\n",
    "imp.columns = ['Score', 'Variable']\n",
    "imp"
   ]
  },
  {
   "cell_type": "code",
   "execution_count": 34,
   "metadata": {
    "collapsed": true
   },
   "outputs": [],
   "source": [
    "### Model -2"
   ]
  },
  {
   "cell_type": "code",
   "execution_count": 39,
   "metadata": {
    "collapsed": false
   },
   "outputs": [
    {
     "data": {
      "text/plain": [
       "['srch_destination_id',\n",
       " 'is_mobile',\n",
       " 'is_package',\n",
       " 'is_booking',\n",
       " 'is_alone',\n",
       " 'hotel_continent',\n",
       " 'hotel_country',\n",
       " 'hotel_market',\n",
       " 'orig_destination_distance',\n",
       " 'srch_destination_type_id',\n",
       " 'srch_rm_cnt',\n",
       " 'user_location_country',\n",
       " 'user_location_region',\n",
       " 'user_location_city',\n",
       " 'year',\n",
       " 'month',\n",
       " 'day',\n",
       " 'hour',\n",
       " 'part_of_day',\n",
       " 'type_of_day',\n",
       " 'season',\n",
       " 'duration_of_stay',\n",
       " 'dest_feature_pc1',\n",
       " 'dest_feature_pc2',\n",
       " 'dest_feature_pc3',\n",
       " 'cluster_id_srchDest',\n",
       " 'cluster_id_hotel_cluster',\n",
       " 'cluster_id_UCRC',\n",
       " 'cluster_id_ULSrDest']"
      ]
     },
     "execution_count": 39,
     "metadata": {},
     "output_type": "execute_result"
    }
   ],
   "source": [
    "predictor_set1"
   ]
  },
  {
   "cell_type": "code",
   "execution_count": 41,
   "metadata": {
    "collapsed": false,
    "scrolled": true
   },
   "outputs": [
    {
     "data": {
      "text/plain": [
       "0             dest_feature_pc1\n",
       "1             dest_feature_pc2\n",
       "2              hotel_continent\n",
       "3                hotel_country\n",
       "4                 hotel_market\n",
       "5     cluster_id_hotel_cluster\n",
       "6          srch_destination_id\n",
       "7             dest_feature_pc3\n",
       "8    orig_destination_distance\n",
       "9             duration_of_stay\n",
       "Name: Variable, dtype: object"
      ]
     },
     "execution_count": 41,
     "metadata": {},
     "output_type": "execute_result"
    }
   ],
   "source": [
    "# Exclude Target and Predictors\n",
    "predictor_set2 = imp.Variable[0:10]\n",
    "predictor_set2"
   ]
  },
  {
   "cell_type": "code",
   "execution_count": null,
   "metadata": {
    "collapsed": true
   },
   "outputs": [],
   "source": [
    "from sklearn import cross_validation\n",
    "from sklearn.ensemble import RandomForestClassifier\n",
    "\n",
    "model_RF = RandomForestClassifier(n_estimators=5, min_weight_fraction_leaf=0.1)\n",
    "scores = cross_validation.cross_val_score(model_RF, train[predictor_set2], train['hotel_cluster'], cv=5)"
   ]
  },
  {
   "cell_type": "code",
   "execution_count": 46,
   "metadata": {
    "collapsed": false
   },
   "outputs": [
    {
     "data": {
      "text/plain": [
       "array([ 5.1069402 ,  7.44493392,  6.97467792,  8.4078712 ,  7.26534296])"
      ]
     },
     "execution_count": 46,
     "metadata": {},
     "output_type": "execute_result"
    }
   ],
   "source": [
    "scores*100"
   ]
  },
  {
   "cell_type": "code",
   "execution_count": 43,
   "metadata": {
    "collapsed": false
   },
   "outputs": [
    {
     "data": {
      "text/plain": [
       "RandomForestClassifier(bootstrap=True, class_weight=None, criterion='gini',\n",
       "            max_depth=None, max_features='auto', max_leaf_nodes=None,\n",
       "            min_samples_leaf=1, min_samples_split=2,\n",
       "            min_weight_fraction_leaf=0.1, n_estimators=5, n_jobs=1,\n",
       "            oob_score=False, random_state=None, verbose=0,\n",
       "            warm_start=False)"
      ]
     },
     "execution_count": 43,
     "metadata": {},
     "output_type": "execute_result"
    }
   ],
   "source": [
    "model_RF.fit(train[predictor_set2], train['hotel_cluster'])"
   ]
  },
  {
   "cell_type": "code",
   "execution_count": 45,
   "metadata": {
    "collapsed": false
   },
   "outputs": [
    {
     "data": {
      "text/plain": [
       "8.2452431289640593"
      ]
     },
     "execution_count": 45,
     "metadata": {},
     "output_type": "execute_result"
    }
   ],
   "source": [
    "test_score = model_RF.score(test[predictor_set2], test['hotel_cluster'])\n",
    "test_score*100"
   ]
  }
 ],
 "metadata": {
  "anaconda-cloud": {},
  "kernelspec": {
   "display_name": "Python [conda root]",
   "language": "python",
   "name": "conda-root-py"
  },
  "language_info": {
   "codemirror_mode": {
    "name": "ipython",
    "version": 3
   },
   "file_extension": ".py",
   "mimetype": "text/x-python",
   "name": "python",
   "nbconvert_exporter": "python",
   "pygments_lexer": "ipython3",
   "version": "3.5.2"
  }
 },
 "nbformat": 4,
 "nbformat_minor": 1
}
