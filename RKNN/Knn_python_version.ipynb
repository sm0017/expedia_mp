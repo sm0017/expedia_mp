{
 "cells": [
  {
   "cell_type": "markdown",
   "metadata": {},
   "source": [
    "# K-nearest neighbours using different similarities and ensemble all K-nearest models"
   ]
  },
  {
   "cell_type": "code",
   "execution_count": 216,
   "metadata": {
    "collapsed": false
   },
   "outputs": [
    {
     "name": "stdout",
     "output_type": "stream",
     "text": [
      "imported libraries . . . \n"
     ]
    }
   ],
   "source": [
    "import pandas as pd\n",
    "import numpy as np\n",
    "import matplotlib.pyplot as plt\n",
    "import seaborn as sns\n",
    "%matplotlib inline\n",
    "print(\"imported libraries . . . \")"
   ]
  },
  {
   "cell_type": "code",
   "execution_count": 217,
   "metadata": {
    "collapsed": true
   },
   "outputs": [],
   "source": [
    "#Read the data\n",
    "train = pd.read_csv(\"/home/smita/MP/dataSet2014.csv\")"
   ]
  },
  {
   "cell_type": "markdown",
   "metadata": {},
   "source": [
    "#### What are the top booked hotel cluster in the dataset "
   ]
  },
  {
   "cell_type": "code",
   "execution_count": 218,
   "metadata": {
    "collapsed": false
   },
   "outputs": [
    {
     "data": {
      "text/html": [
       "<div>\n",
       "<table border=\"1\" class=\"dataframe\">\n",
       "  <thead>\n",
       "    <tr style=\"text-align: right;\">\n",
       "      <th></th>\n",
       "      <th>hotel_cluster</th>\n",
       "      <th>Percentage</th>\n",
       "    </tr>\n",
       "  </thead>\n",
       "  <tbody>\n",
       "    <tr>\n",
       "      <th>91</th>\n",
       "      <td>727343</td>\n",
       "      <td>2.746410</td>\n",
       "    </tr>\n",
       "    <tr>\n",
       "      <th>41</th>\n",
       "      <td>546278</td>\n",
       "      <td>2.062718</td>\n",
       "    </tr>\n",
       "    <tr>\n",
       "      <th>48</th>\n",
       "      <td>518345</td>\n",
       "      <td>1.957244</td>\n",
       "    </tr>\n",
       "    <tr>\n",
       "      <th>64</th>\n",
       "      <td>488729</td>\n",
       "      <td>1.845416</td>\n",
       "    </tr>\n",
       "    <tr>\n",
       "      <th>65</th>\n",
       "      <td>475511</td>\n",
       "      <td>1.795505</td>\n",
       "    </tr>\n",
       "  </tbody>\n",
       "</table>\n",
       "</div>"
      ],
      "text/plain": [
       "    hotel_cluster  Percentage\n",
       "91         727343    2.746410\n",
       "41         546278    2.062718\n",
       "48         518345    1.957244\n",
       "64         488729    1.845416\n",
       "65         475511    1.795505"
      ]
     },
     "execution_count": 218,
     "metadata": {},
     "output_type": "execute_result"
    }
   ],
   "source": [
    "targets = pd.DataFrame(train.hotel_cluster.value_counts())\n",
    "targets['Percentage'] = 100*targets['hotel_cluster']/train.shape[0]\n",
    "targets.head()"
   ]
  },
  {
   "cell_type": "code",
   "execution_count": 219,
   "metadata": {
    "collapsed": false
   },
   "outputs": [
    {
     "data": {
      "text/plain": [
       "(26483412, 23)"
      ]
     },
     "execution_count": 219,
     "metadata": {},
     "output_type": "execute_result"
    }
   ],
   "source": [
    "train.shape"
   ]
  },
  {
   "cell_type": "markdown",
   "metadata": {},
   "source": [
    "# DownSampling"
   ]
  },
  {
   "cell_type": "markdown",
   "metadata": {},
   "source": [
    "### We are seletcing data randomly for n unique users"
   ]
  },
  {
   "cell_type": "code",
   "execution_count": 220,
   "metadata": {
    "collapsed": false
   },
   "outputs": [
    {
     "name": "stdout",
     "output_type": "stream",
     "text": [
      "We have data for 1092445 users\n",
      "Randomly selecting data for 819334 users\n",
      "new sample contains 19857217 rows and 23 columns\n"
     ]
    }
   ],
   "source": [
    "### Randomly select n user_ids\n",
    "import random\n",
    "unique_users = train.user_id.unique()\n",
    "print(\"We have data for\", len(unique_users), \"users\")\n",
    "usr_cnt = round(len(unique_users) * 0.75) # select 75% of the unique users\n",
    "print(\"Randomly selecting data for\", usr_cnt, \"users\")\n",
    "sel_user_ids = [unique_users[i] for i in sorted(random.sample(range(len(unique_users)), usr_cnt)) ]\n",
    "rf_dat = train[train.user_id.isin(sel_user_ids)]\n",
    "print(\"new sample contains\", rf_dat.shape[0], \"rows and\", rf_dat.shape[1], \"columns\")"
   ]
  },
  {
   "cell_type": "markdown",
   "metadata": {},
   "source": [
    "### We will split the data into train and test set"
   ]
  },
  {
   "cell_type": "code",
   "execution_count": 221,
   "metadata": {
    "collapsed": false
   },
   "outputs": [
    {
     "name": "stdout",
     "output_type": "stream",
     "text": [
      "Our train and test contains 14892912 , 4964305 rows respectivelly\n",
      "Size of test sample after removal of clicks:  (371058, 23)\n"
     ]
    }
   ],
   "source": [
    "from sklearn import cross_validation\n",
    "train_sample, test_sample = cross_validation.train_test_split(rf_dat, train_size = 0.75 )\n",
    "print(\"Our train and test contains\", train_sample.shape[0], \",\", test_sample.shape[0], \"rows respectivelly\")\n",
    "test_sample = test_sample[test_sample['is_booking']==1] ## using only booking data for test\n",
    "print(\"Size of test sample after removal of clicks: \", test_sample.shape)"
   ]
  },
  {
   "cell_type": "code",
   "execution_count": 146,
   "metadata": {
    "collapsed": false
   },
   "outputs": [
    {
     "data": {
      "text/plain": [
       "(array(['Unnamed: 0', 'srch_destination_id', 'user_id', 'is_mobile',\n",
       "        'is_package', 'is_booking', 'hotel_cluster', 'is_alone',\n",
       "        'hotel_market', 'year', 'month', 'day', 'hour', 'part_of_day',\n",
       "        'type_of_day', 'season', 'duration_of_stay', 'hotel_market.1',\n",
       "        'hotel_continent', 'X', 'dest_feature_pc1', 'dest_feature_pc2',\n",
       "        'dest_feature_pc3'], dtype=object),\n",
       " array(['Unnamed: 0', 'srch_destination_id', 'user_id', 'is_mobile',\n",
       "        'is_package', 'is_booking', 'hotel_cluster', 'is_alone',\n",
       "        'hotel_market', 'year', 'month', 'day', 'hour', 'part_of_day',\n",
       "        'type_of_day', 'season', 'duration_of_stay', 'hotel_market.1',\n",
       "        'hotel_continent', 'X', 'dest_feature_pc1', 'dest_feature_pc2',\n",
       "        'dest_feature_pc3'], dtype=object))"
      ]
     },
     "execution_count": 146,
     "metadata": {},
     "output_type": "execute_result"
    }
   ],
   "source": [
    "train_sample.columns.values, test_sample.columns.values"
   ]
  },
  {
   "cell_type": "code",
   "execution_count": 222,
   "metadata": {
    "collapsed": true
   },
   "outputs": [],
   "source": [
    "### deleting unwanted index columns from test and train\n",
    "del train_sample['Unnamed: 0']\n",
    "del test_sample['Unnamed: 0']"
   ]
  },
  {
   "cell_type": "code",
   "execution_count": 223,
   "metadata": {
    "collapsed": false
   },
   "outputs": [
    {
     "data": {
      "text/html": [
       "<div>\n",
       "<table border=\"1\" class=\"dataframe\">\n",
       "  <thead>\n",
       "    <tr style=\"text-align: right;\">\n",
       "      <th></th>\n",
       "      <th>srch_destination_id</th>\n",
       "      <th>user_id</th>\n",
       "      <th>is_mobile</th>\n",
       "      <th>is_package</th>\n",
       "      <th>is_booking</th>\n",
       "      <th>hotel_cluster</th>\n",
       "      <th>is_alone</th>\n",
       "      <th>hotel_market</th>\n",
       "      <th>year</th>\n",
       "      <th>month</th>\n",
       "      <th>...</th>\n",
       "      <th>part_of_day</th>\n",
       "      <th>type_of_day</th>\n",
       "      <th>season</th>\n",
       "      <th>duration_of_stay</th>\n",
       "      <th>hotel_market.1</th>\n",
       "      <th>hotel_continent</th>\n",
       "      <th>X</th>\n",
       "      <th>dest_feature_pc1</th>\n",
       "      <th>dest_feature_pc2</th>\n",
       "      <th>dest_feature_pc3</th>\n",
       "    </tr>\n",
       "  </thead>\n",
       "  <tbody>\n",
       "    <tr>\n",
       "      <th>10218408</th>\n",
       "      <td>8746</td>\n",
       "      <td>566955</td>\n",
       "      <td>0</td>\n",
       "      <td>0</td>\n",
       "      <td>0</td>\n",
       "      <td>59</td>\n",
       "      <td>0.0</td>\n",
       "      <td>29</td>\n",
       "      <td>2014</td>\n",
       "      <td>10</td>\n",
       "      <td>...</td>\n",
       "      <td>evening</td>\n",
       "      <td>weekday</td>\n",
       "      <td>fall</td>\n",
       "      <td>2.0</td>\n",
       "      <td>29</td>\n",
       "      <td>6</td>\n",
       "      <td>8526.0</td>\n",
       "      <td>7.301992</td>\n",
       "      <td>-2.167246</td>\n",
       "      <td>1.25915</td>\n",
       "    </tr>\n",
       "  </tbody>\n",
       "</table>\n",
       "<p>1 rows × 22 columns</p>\n",
       "</div>"
      ],
      "text/plain": [
       "          srch_destination_id  user_id  is_mobile  is_package  is_booking  \\\n",
       "10218408                 8746   566955          0           0           0   \n",
       "\n",
       "          hotel_cluster  is_alone  hotel_market  year  month  \\\n",
       "10218408             59       0.0            29  2014     10   \n",
       "\n",
       "                ...         part_of_day  type_of_day season duration_of_stay  \\\n",
       "10218408        ...             evening      weekday   fall              2.0   \n",
       "\n",
       "         hotel_market.1  hotel_continent       X  dest_feature_pc1  \\\n",
       "10218408             29                6  8526.0          7.301992   \n",
       "\n",
       "          dest_feature_pc2  dest_feature_pc3  \n",
       "10218408         -2.167246           1.25915  \n",
       "\n",
       "[1 rows x 22 columns]"
      ]
     },
     "execution_count": 223,
     "metadata": {},
     "output_type": "execute_result"
    }
   ],
   "source": [
    "train_sample.head(1) "
   ]
  },
  {
   "cell_type": "code",
   "execution_count": 224,
   "metadata": {
    "collapsed": false,
    "scrolled": true
   },
   "outputs": [
    {
     "data": {
      "text/html": [
       "<div>\n",
       "<table border=\"1\" class=\"dataframe\">\n",
       "  <thead>\n",
       "    <tr style=\"text-align: right;\">\n",
       "      <th></th>\n",
       "      <th>srch_destination_id</th>\n",
       "      <th>user_id</th>\n",
       "      <th>is_mobile</th>\n",
       "      <th>is_package</th>\n",
       "      <th>is_booking</th>\n",
       "      <th>hotel_cluster</th>\n",
       "      <th>is_alone</th>\n",
       "      <th>hotel_market</th>\n",
       "      <th>year</th>\n",
       "      <th>month</th>\n",
       "      <th>...</th>\n",
       "      <th>part_of_day</th>\n",
       "      <th>type_of_day</th>\n",
       "      <th>season</th>\n",
       "      <th>duration_of_stay</th>\n",
       "      <th>hotel_market.1</th>\n",
       "      <th>hotel_continent</th>\n",
       "      <th>X</th>\n",
       "      <th>dest_feature_pc1</th>\n",
       "      <th>dest_feature_pc2</th>\n",
       "      <th>dest_feature_pc3</th>\n",
       "    </tr>\n",
       "  </thead>\n",
       "  <tbody>\n",
       "    <tr>\n",
       "      <th>15131096</th>\n",
       "      <td>11922</td>\n",
       "      <td>815699</td>\n",
       "      <td>0</td>\n",
       "      <td>1</td>\n",
       "      <td>1</td>\n",
       "      <td>37</td>\n",
       "      <td>0.0</td>\n",
       "      <td>376</td>\n",
       "      <td>2014</td>\n",
       "      <td>9</td>\n",
       "      <td>...</td>\n",
       "      <td>morning</td>\n",
       "      <td>weekday</td>\n",
       "      <td>fall</td>\n",
       "      <td>1.0</td>\n",
       "      <td>376</td>\n",
       "      <td>2</td>\n",
       "      <td>11525.0</td>\n",
       "      <td>12.146671</td>\n",
       "      <td>-0.228022</td>\n",
       "      <td>3.466711</td>\n",
       "    </tr>\n",
       "  </tbody>\n",
       "</table>\n",
       "<p>1 rows × 22 columns</p>\n",
       "</div>"
      ],
      "text/plain": [
       "          srch_destination_id  user_id  is_mobile  is_package  is_booking  \\\n",
       "15131096                11922   815699          0           1           1   \n",
       "\n",
       "          hotel_cluster  is_alone  hotel_market  year  month  \\\n",
       "15131096             37       0.0           376  2014      9   \n",
       "\n",
       "                ...         part_of_day  type_of_day season duration_of_stay  \\\n",
       "15131096        ...             morning      weekday   fall              1.0   \n",
       "\n",
       "         hotel_market.1  hotel_continent        X  dest_feature_pc1  \\\n",
       "15131096            376                2  11525.0         12.146671   \n",
       "\n",
       "          dest_feature_pc2  dest_feature_pc3  \n",
       "15131096         -0.228022          3.466711  \n",
       "\n",
       "[1 rows x 22 columns]"
      ]
     },
     "execution_count": 224,
     "metadata": {},
     "output_type": "execute_result"
    }
   ],
   "source": [
    "test_sample.head(1)"
   ]
  },
  {
   "cell_type": "markdown",
   "metadata": {},
   "source": [
    "### Selecting only required columns to free some memory"
   ]
  },
  {
   "cell_type": "code",
   "execution_count": 225,
   "metadata": {
    "collapsed": true
   },
   "outputs": [],
   "source": [
    "predictor_set = [c for c in train.columns if c in ['srch_destination_id', 'hotel_continent', 'hotel_market', 'hotel_cluster']]"
   ]
  },
  {
   "cell_type": "code",
   "execution_count": 226,
   "metadata": {
    "collapsed": false
   },
   "outputs": [
    {
     "name": "stdout",
     "output_type": "stream",
     "text": [
      "size of train set before removal of suplicates: (14892912, 4)\n",
      "size of train set after removal of suplicates: (300985, 4)\n"
     ]
    }
   ],
   "source": [
    "train_noDup  = train_sample[predictor_set] \n",
    "print(\"size of train set before removal of suplicates:\", train_noDup.shape)\n",
    "# We are dropping duplicate rows from training set \n",
    "train_noDup = train_noDup.drop_duplicates(subset=predictor_set)\n",
    "print(\"size of train set after removal of suplicates:\", train_noDup.shape)"
   ]
  },
  {
   "cell_type": "markdown",
   "metadata": {},
   "source": [
    "#### Separate predictors and target from test and train set"
   ]
  },
  {
   "cell_type": "code",
   "execution_count": 227,
   "metadata": {
    "collapsed": true
   },
   "outputs": [],
   "source": [
    "predictor_set1 = [c for c in train.columns if c in ['srch_destination_id', 'hotel_continent', 'hotel_market']]\n",
    "train_dat = train_noDup[predictor_set1]\n",
    "train_label = train_noDup['hotel_cluster']\n",
    "test_dat = test_sample[predictor_set1]\n",
    "test_label = test_sample['hotel_cluster']"
   ]
  },
  {
   "cell_type": "markdown",
   "metadata": {},
   "source": [
    "### before applying KNN lets delete all"
   ]
  },
  {
   "cell_type": "markdown",
   "metadata": {},
   "source": [
    "#### We will Jaccard similarty Score to find 5 nearest neighbours to predict what hotel clusters booked by the users in test set"
   ]
  },
  {
   "cell_type": "code",
   "execution_count": 228,
   "metadata": {
    "collapsed": true
   },
   "outputs": [],
   "source": [
    "from itertools import islice\n",
    "def sliceDict(n, iterable):\n",
    "    \"Return first n items of the iterable as a list\"\n",
    "    return list(islice(iterable, n))"
   ]
  },
  {
   "cell_type": "code",
   "execution_count": 229,
   "metadata": {
    "collapsed": true
   },
   "outputs": [],
   "source": [
    "from sklearn.metrics import jaccard_similarity_score\n",
    "import operator\n",
    "import gc # to free memory"
   ]
  },
  {
   "cell_type": "code",
   "execution_count": null,
   "metadata": {
    "collapsed": false
   },
   "outputs": [],
   "source": [
    "distances = {} # {hotel_cluster: score}\n",
    "final_predction = []\n",
    "nrowtrain,ncoltrain = train_dat.shape\n",
    "nrowtest,ncoltest = test_dat.shape\n",
    "for testrow in range(nrowtest):\n",
    "    \n",
    "        for r in range(nrowtrain):\n",
    "            score = jaccard_similarity_score(train_dat.iloc[r,], test_dat.iloc[testrow,])\n",
    "            hotel_cluster = train_label.iloc[r] # get hotel_cluster of neighbour\n",
    "            distances.update({hotel_cluster: score})\n",
    "            \n",
    "        sorted_distances = sorted(distances.items(), key=operator.itemgetter(1))\n",
    "        top5 = sliceDict(5, sorted_distances)\n",
    "        p =[]\n",
    "        for i in range(len(top5)):\n",
    "                            d = top5[i][0]\n",
    "                            p.append(d)\n",
    "        #print(p)            \n",
    "        final_predction.append(p)   \n",
    "       "
   ]
  },
  {
   "cell_type": "markdown",
   "metadata": {},
   "source": [
    "# Accuracy Using Map@5 metric"
   ]
  },
  {
   "cell_type": "code",
   "execution_count": 213,
   "metadata": {
    "collapsed": false
   },
   "outputs": [
    {
     "data": {
      "text/plain": [
       "8.75"
      ]
     },
     "execution_count": 213,
     "metadata": {},
     "output_type": "execute_result"
    }
   ],
   "source": [
    "import ml_metrics as metrics\n",
    "target = [[l] for l in test_sample[\"hotel_cluster\"]]\n",
    "score = metrics.mapk(target, final_predction, k=5) \n",
    "score*100"
   ]
  },
  {
   "cell_type": "code",
   "execution_count": null,
   "metadata": {
    "collapsed": true
   },
   "outputs": [],
   "source": [
    "from sklearn import neighbors, datasets\n"
   ]
  }
 ],
 "metadata": {
  "anaconda-cloud": {},
  "kernelspec": {
   "display_name": "Python [conda root]",
   "language": "python",
   "name": "conda-root-py"
  },
  "language_info": {
   "codemirror_mode": {
    "name": "ipython",
    "version": 3
   },
   "file_extension": ".py",
   "mimetype": "text/x-python",
   "name": "python",
   "nbconvert_exporter": "python",
   "pygments_lexer": "ipython3",
   "version": "3.5.2"
  }
 },
 "nbformat": 4,
 "nbformat_minor": 1
}
